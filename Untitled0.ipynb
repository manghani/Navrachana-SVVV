{
  "nbformat": 4,
  "nbformat_minor": 0,
  "metadata": {
    "colab": {
      "name": "Untitled0.ipynb",
      "provenance": [],
      "authorship_tag": "ABX9TyOHLyjwgSgeS65wave4lUOX",
      "include_colab_link": true
    },
    "kernelspec": {
      "name": "python3",
      "display_name": "Python 3"
    },
    "language_info": {
      "name": "python"
    }
  },
  "cells": [
    {
      "cell_type": "markdown",
      "metadata": {
        "id": "view-in-github",
        "colab_type": "text"
      },
      "source": [
        "<a href=\"https://colab.research.google.com/github/manghani/Navrachana-SVVV/blob/master/Untitled0.ipynb\" target=\"_parent\"><img src=\"https://colab.research.google.com/assets/colab-badge.svg\" alt=\"Open In Colab\"/></a>"
      ]
    },
    {
      "cell_type": "code",
      "metadata": {
        "colab": {
          "base_uri": "https://localhost:8080/"
        },
        "id": "5mwf7E4ySc6R",
        "outputId": "17025417-73db-44e1-d628-345c2309eb39"
      },
      "source": [
        "!pip install pyspark\n",
        "from pyspark import SparkContext\n",
        "sc= SparkContext(\"local\",\"Myapp\")\n",
        "words = sc.textFile(\"firstprogram.txt\").flatMap(lambda line: line.split(\" \"))\n",
        "a = words.map(lambda word: (word, 1))\n",
        "b = a.reduceByKey(lambda a,b:a+b)\n",
        "b.collect()"
      ],
      "execution_count": 1,
      "outputs": [
        {
          "output_type": "stream",
          "text": [
            "Collecting pyspark\n",
            "\u001b[?25l  Downloading https://files.pythonhosted.org/packages/45/b0/9d6860891ab14a39d4bddf80ba26ce51c2f9dc4805e5c6978ac0472c120a/pyspark-3.1.1.tar.gz (212.3MB)\n",
            "\u001b[K     |████████████████████████████████| 212.3MB 62kB/s \n",
            "\u001b[?25hCollecting py4j==0.10.9\n",
            "\u001b[?25l  Downloading https://files.pythonhosted.org/packages/9e/b6/6a4fb90cd235dc8e265a6a2067f2a2c99f0d91787f06aca4bcf7c23f3f80/py4j-0.10.9-py2.py3-none-any.whl (198kB)\n",
            "\u001b[K     |████████████████████████████████| 204kB 52.1MB/s \n",
            "\u001b[?25hBuilding wheels for collected packages: pyspark\n",
            "  Building wheel for pyspark (setup.py) ... \u001b[?25l\u001b[?25hdone\n",
            "  Created wheel for pyspark: filename=pyspark-3.1.1-py2.py3-none-any.whl size=212767604 sha256=08922630a4b7fbc44b105e3d190d1b9fb6dc6138d2a42c62848a99c29b9d040b\n",
            "  Stored in directory: /root/.cache/pip/wheels/0b/90/c0/01de724414ef122bd05f056541fb6a0ecf47c7ca655f8b3c0f\n",
            "Successfully built pyspark\n",
            "Installing collected packages: py4j, pyspark\n",
            "Successfully installed py4j-0.10.9 pyspark-3.1.1\n"
          ],
          "name": "stdout"
        },
        {
          "output_type": "execute_result",
          "data": {
            "text/plain": [
              "[('Hello', 1),\n",
              " ('this', 1),\n",
              " ('is', 1),\n",
              " ('a', 1),\n",
              " ('test', 1),\n",
              " ('file', 1),\n",
              " ('for', 1),\n",
              " ('my', 1),\n",
              " ('python', 1),\n",
              " ('program', 1),\n",
              " ('using', 1),\n",
              " ('PYSPARK!', 1)]"
            ]
          },
          "metadata": {
            "tags": []
          },
          "execution_count": 1
        }
      ]
    },
    {
      "cell_type": "code",
      "metadata": {
        "id": "xYCzSpPWZ5T3"
      },
      "source": [
        "data = [10, 20, 40, 50]\n"
      ],
      "execution_count": 4,
      "outputs": []
    },
    {
      "cell_type": "code",
      "metadata": {
        "colab": {
          "base_uri": "https://localhost:8080/"
        },
        "id": "lgVJL7qeaJIZ",
        "outputId": "551e3bba-91f7-4024-e6d7-224efd3904e8"
      },
      "source": [
        "rdd_data = sc.parallelize(data)\n",
        "print(rdd_data)\n",
        "rdd_data.collect()"
      ],
      "execution_count": 7,
      "outputs": [
        {
          "output_type": "stream",
          "text": [
            "ParallelCollectionRDD[9] at readRDDFromFile at PythonRDD.scala:274\n"
          ],
          "name": "stdout"
        },
        {
          "output_type": "execute_result",
          "data": {
            "text/plain": [
              "[10, 20, 40, 50]"
            ]
          },
          "metadata": {
            "tags": []
          },
          "execution_count": 7
        }
      ]
    },
    {
      "cell_type": "code",
      "metadata": {
        "id": "5bPDSWiMafR5"
      },
      "source": [
        ""
      ],
      "execution_count": null,
      "outputs": []
    },
    {
      "cell_type": "code",
      "metadata": {
        "colab": {
          "base_uri": "https://localhost:8080/"
        },
        "id": "4DYtV3FDS7lj",
        "outputId": "69ed078f-a472-47f8-8983-cde4b58d97d1"
      },
      "source": [
        "from pyspark.sql import SparkSession\n",
        "spark = SparkSession.builder.appName(\"Temp\").getOrCreate()\n",
        "\n",
        "from pyspark.sql import Row\n",
        "Frame = Row(\"val1\", \"val2\")\n",
        "f1 = Frame('Sourav', 22)\n",
        "f2 = Frame('Kundan', 250)\n",
        "\n",
        "data = [f1, f2]\n",
        "dataFrame = spark.createDataFrame(data)\n",
        "dataFrame.show()"
      ],
      "execution_count": 8,
      "outputs": [
        {
          "output_type": "stream",
          "text": [
            "+------+----+\n",
            "|  val1|val2|\n",
            "+------+----+\n",
            "|Sourav|  22|\n",
            "|Kundan| 250|\n",
            "+------+----+\n",
            "\n"
          ],
          "name": "stdout"
        }
      ]
    },
    {
      "cell_type": "code",
      "metadata": {
        "colab": {
          "base_uri": "https://localhost:8080/"
        },
        "id": "id08FMI1fJiw",
        "outputId": "fd21144d-a13b-44ac-88f5-0560f8784d96"
      },
      "source": [
        "dataFrame.select('val1').show()"
      ],
      "execution_count": 9,
      "outputs": [
        {
          "output_type": "stream",
          "text": [
            "+------+\n",
            "|  val1|\n",
            "+------+\n",
            "|Sourav|\n",
            "|Kundan|\n",
            "+------+\n",
            "\n"
          ],
          "name": "stdout"
        }
      ]
    },
    {
      "cell_type": "code",
      "metadata": {
        "colab": {
          "base_uri": "https://localhost:8080/"
        },
        "id": "UQvtCE9ZfWJ-",
        "outputId": "e377db6d-5d17-431b-e4ae-e583d79eb8e7"
      },
      "source": [
        "dataFrame.printSchema()"
      ],
      "execution_count": 10,
      "outputs": [
        {
          "output_type": "stream",
          "text": [
            "root\n",
            " |-- val1: string (nullable = true)\n",
            " |-- val2: long (nullable = true)\n",
            "\n"
          ],
          "name": "stdout"
        }
      ]
    },
    {
      "cell_type": "code",
      "metadata": {
        "colab": {
          "base_uri": "https://localhost:8080/"
        },
        "id": "4SNRqKiPfcq4",
        "outputId": "2b369276-b5c8-480a-c21c-7f1d21691fd7"
      },
      "source": [
        "dataFrame.filter(dataFrame.val1 == 'Sourav').select('val2').show()"
      ],
      "execution_count": 13,
      "outputs": [
        {
          "output_type": "stream",
          "text": [
            "+----+\n",
            "|val2|\n",
            "+----+\n",
            "|  22|\n",
            "+----+\n",
            "\n"
          ],
          "name": "stdout"
        }
      ]
    }
  ]
}