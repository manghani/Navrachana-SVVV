{
  "nbformat": 4,
  "nbformat_minor": 0,
  "metadata": {
    "colab": {
      "name": "Untitled0.ipynb",
      "provenance": [],
      "authorship_tag": "ABX9TyOQswWHKuS19tvW/tuIi7KS",
      "include_colab_link": true
    },
    "kernelspec": {
      "name": "python3",
      "display_name": "Python 3"
    },
    "language_info": {
      "name": "python"
    }
  },
  "cells": [
    {
      "cell_type": "markdown",
      "metadata": {
        "id": "view-in-github",
        "colab_type": "text"
      },
      "source": [
        "<a href=\"https://colab.research.google.com/github/manghani/pyspark/blob/master/Untitled0.ipynb\" target=\"_parent\"><img src=\"https://colab.research.google.com/assets/colab-badge.svg\" alt=\"Open In Colab\"/></a>"
      ]
    },
    {
      "cell_type": "code",
      "metadata": {
        "colab": {
          "base_uri": "https://localhost:8080/"
        },
        "id": "5mwf7E4ySc6R",
        "outputId": "79c232f3-4939-4279-b5fa-6ad4c0e669dd"
      },
      "source": [
        "!pip install pyspark\n",
        "from pyspark import SparkContext\n",
        "sc= SparkContext(\"local\",\"Myapp\")\n",
        "# words = sc.textFile(\"firstprogram.txt\").flatMap(lambda line: line.split(\" \"))\n",
        "# a = words.map(lambda word: (word, 1))\n",
        "# b = a.reduceByKey(lambda a,b:a+b)\n",
        "# b.collect()"
      ],
      "execution_count": null,
      "outputs": [
        {
          "output_type": "stream",
          "text": [
            "Requirement already satisfied: pyspark in /usr/local/lib/python3.7/dist-packages (3.1.1)\n",
            "Requirement already satisfied: py4j==0.10.9 in /usr/local/lib/python3.7/dist-packages (from pyspark) (0.10.9)\n"
          ],
          "name": "stdout"
        }
      ]
    },
    {
      "cell_type": "code",
      "metadata": {
        "id": "xYCzSpPWZ5T3"
      },
      "source": [
        "data = [10, 20, 40, 50]\n"
      ],
      "execution_count": null,
      "outputs": []
    },
    {
      "cell_type": "code",
      "metadata": {
        "colab": {
          "base_uri": "https://localhost:8080/"
        },
        "id": "lgVJL7qeaJIZ",
        "outputId": "551e3bba-91f7-4024-e6d7-224efd3904e8"
      },
      "source": [
        "rdd_data = sc.parallelize(data)\n",
        "print(rdd_data)\n",
        "rdd_data.collect()"
      ],
      "execution_count": null,
      "outputs": [
        {
          "output_type": "stream",
          "text": [
            "ParallelCollectionRDD[9] at readRDDFromFile at PythonRDD.scala:274\n"
          ],
          "name": "stdout"
        },
        {
          "output_type": "execute_result",
          "data": {
            "text/plain": [
              "[10, 20, 40, 50]"
            ]
          },
          "metadata": {
            "tags": []
          },
          "execution_count": 7
        }
      ]
    },
    {
      "cell_type": "code",
      "metadata": {
        "id": "5bPDSWiMafR5"
      },
      "source": [
        ""
      ],
      "execution_count": null,
      "outputs": []
    },
    {
      "cell_type": "code",
      "metadata": {
        "colab": {
          "base_uri": "https://localhost:8080/"
        },
        "id": "4DYtV3FDS7lj",
        "outputId": "36659599-07bf-4ed4-a508-6ed131b2fe9d"
      },
      "source": [
        "!pip install pyspark\n",
        "\n",
        "from pyspark.sql import SparkSession\n",
        "spark = SparkSession.builder.appName(\"Temp\").getOrCreate()\n",
        "\n",
        "from pyspark.sql import Row\n",
        "Frame = Row(\"ID\", \"Passenger\", \"Fare\", \"From\", \"To\")\n",
        "f1 = Frame(1, 'Sourav', 20, 'Bhawarkua', 'LIG')\n",
        "f2 = Frame(2, 'Kundan', 10, 'LIG', 'Vijay Nagar')\n",
        "f3 = Frame(3, 'Ankur', 10, 'Nagar Nigam', 'Rajwada')\n",
        "f4 = Frame(4, 'Rohit', 15, 'GPO', 'Palasia')\n",
        "data = [f1, f2, f3, f4]\n",
        "dataFrame = spark.createDataFrame(data)\n",
        "dataFrame.show()"
      ],
      "execution_count": null,
      "outputs": [
        {
          "output_type": "stream",
          "text": [
            "Collecting pyspark\n",
            "\u001b[?25l  Downloading https://files.pythonhosted.org/packages/45/b0/9d6860891ab14a39d4bddf80ba26ce51c2f9dc4805e5c6978ac0472c120a/pyspark-3.1.1.tar.gz (212.3MB)\n",
            "\u001b[K     |████████████████████████████████| 212.3MB 66kB/s \n",
            "\u001b[?25hCollecting py4j==0.10.9\n",
            "\u001b[?25l  Downloading https://files.pythonhosted.org/packages/9e/b6/6a4fb90cd235dc8e265a6a2067f2a2c99f0d91787f06aca4bcf7c23f3f80/py4j-0.10.9-py2.py3-none-any.whl (198kB)\n",
            "\u001b[K     |████████████████████████████████| 204kB 49.9MB/s \n",
            "\u001b[?25hBuilding wheels for collected packages: pyspark\n",
            "  Building wheel for pyspark (setup.py) ... \u001b[?25l\u001b[?25hdone\n",
            "  Created wheel for pyspark: filename=pyspark-3.1.1-py2.py3-none-any.whl size=212767604 sha256=b0222ecaf3ff4a27a581866028eeae0c5fc8f46a20b3b724155ea0552a559bb1\n",
            "  Stored in directory: /root/.cache/pip/wheels/0b/90/c0/01de724414ef122bd05f056541fb6a0ecf47c7ca655f8b3c0f\n",
            "Successfully built pyspark\n",
            "Installing collected packages: py4j, pyspark\n",
            "Successfully installed py4j-0.10.9 pyspark-3.1.1\n",
            "+---+---------+----+-----------+-----------+\n",
            "| ID|Passenger|Fare|       From|         To|\n",
            "+---+---------+----+-----------+-----------+\n",
            "|  1|   Sourav|  20|  Bhawarkua|        LIG|\n",
            "|  2|   Kundan|  10|        LIG|Vijay Nagar|\n",
            "|  3|    Ankur|  10|Nagar Nigam|    Rajwada|\n",
            "|  4|    Rohit|  15|        GPO|    Palasia|\n",
            "+---+---------+----+-----------+-----------+\n",
            "\n"
          ],
          "name": "stdout"
        }
      ]
    },
    {
      "cell_type": "code",
      "metadata": {
        "colab": {
          "base_uri": "https://localhost:8080/"
        },
        "id": "id08FMI1fJiw",
        "outputId": "6a760525-0b97-45da-cd3c-3e38ab6e5571"
      },
      "source": [
        "dataFrame.select('Passenger').show()"
      ],
      "execution_count": null,
      "outputs": [
        {
          "output_type": "stream",
          "text": [
            "+---------+\n",
            "|Passenger|\n",
            "+---------+\n",
            "|   Sourav|\n",
            "|   Kundan|\n",
            "|    Ankur|\n",
            "|    Rohit|\n",
            "+---------+\n",
            "\n"
          ],
          "name": "stdout"
        }
      ]
    },
    {
      "cell_type": "code",
      "metadata": {
        "colab": {
          "base_uri": "https://localhost:8080/"
        },
        "id": "UQvtCE9ZfWJ-",
        "outputId": "3348d364-de5f-49ac-8e89-b0c17cb08805"
      },
      "source": [
        "dataFrame.printSchema()"
      ],
      "execution_count": null,
      "outputs": [
        {
          "output_type": "stream",
          "text": [
            "root\n",
            " |-- ID: long (nullable = true)\n",
            " |-- Passenger: string (nullable = true)\n",
            " |-- Fare: long (nullable = true)\n",
            " |-- From: string (nullable = true)\n",
            " |-- To: string (nullable = true)\n",
            "\n"
          ],
          "name": "stdout"
        }
      ]
    },
    {
      "cell_type": "code",
      "metadata": {
        "colab": {
          "base_uri": "https://localhost:8080/"
        },
        "id": "4SNRqKiPfcq4",
        "outputId": "a524032b-bef0-4025-c178-b515791a41b2"
      },
      "source": [
        "dataFrame.filter(dataFrame.Fare >= 15).select('Passenger').show()"
      ],
      "execution_count": null,
      "outputs": [
        {
          "output_type": "stream",
          "text": [
            "+---------+\n",
            "|Passenger|\n",
            "+---------+\n",
            "|   Sourav|\n",
            "|    Rohit|\n",
            "+---------+\n",
            "\n"
          ],
          "name": "stdout"
        }
      ]
    },
    {
      "cell_type": "code",
      "metadata": {
        "colab": {
          "base_uri": "https://localhost:8080/"
        },
        "id": "TwuIw8Bv4rN-",
        "outputId": "8f2fb68e-dbcc-4f96-a6a5-c9366ff954b9"
      },
      "source": [
        "dataFrame.filter(dataFrame.Fare == 20).select('From', 'To').show()"
      ],
      "execution_count": null,
      "outputs": [
        {
          "output_type": "stream",
          "text": [
            "+---------+---+\n",
            "|     From| To|\n",
            "+---------+---+\n",
            "|Bhawarkua|LIG|\n",
            "+---------+---+\n",
            "\n"
          ],
          "name": "stdout"
        }
      ]
    },
    {
      "cell_type": "code",
      "metadata": {
        "id": "IvNwRohWbge5"
      },
      "source": [
        "df = spark.read.text('firstprogram.txt')"
      ],
      "execution_count": null,
      "outputs": []
    },
    {
      "cell_type": "code",
      "metadata": {
        "colab": {
          "base_uri": "https://localhost:8080/"
        },
        "id": "uGh6iOwLcteT",
        "outputId": "e89a6142-cb99-4ca4-c59c-d58d41a2f4cc"
      },
      "source": [
        "print(df)"
      ],
      "execution_count": null,
      "outputs": [
        {
          "output_type": "stream",
          "text": [
            "DataFrame[value: string]\n"
          ],
          "name": "stdout"
        }
      ]
    },
    {
      "cell_type": "code",
      "metadata": {
        "colab": {
          "base_uri": "https://localhost:8080/"
        },
        "id": "dmnvngAIcxVG",
        "outputId": "2fbb594e-9458-4702-c272-92cf13cf76c7"
      },
      "source": [
        "df.show()"
      ],
      "execution_count": null,
      "outputs": [
        {
          "output_type": "stream",
          "text": [
            "+--------------------+\n",
            "|               value|\n",
            "+--------------------+\n",
            "|Hello this is a t...|\n",
            "+--------------------+\n",
            "\n"
          ],
          "name": "stdout"
        }
      ]
    },
    {
      "cell_type": "code",
      "metadata": {
        "colab": {
          "base_uri": "https://localhost:8080/"
        },
        "id": "qFQM4xYzc12D",
        "outputId": "c884a049-342d-4f12-8ca5-dd1e5ba3d40c"
      },
      "source": [
        "rdd_data = sc.parallelize(['abc', 'def', 'ghi'])\n",
        "rdd_data.collect()"
      ],
      "execution_count": null,
      "outputs": [
        {
          "output_type": "execute_result",
          "data": {
            "text/plain": [
              "['abc', 'def', 'ghi']"
            ]
          },
          "metadata": {
            "tags": []
          },
          "execution_count": 36
        }
      ]
    },
    {
      "cell_type": "code",
      "metadata": {
        "id": "jXQaM2nyeYxQ"
      },
      "source": [
        "def pr(x): print(x)"
      ],
      "execution_count": null,
      "outputs": []
    },
    {
      "cell_type": "code",
      "metadata": {
        "colab": {
          "base_uri": "https://localhost:8080/"
        },
        "id": "2peawkf8f_vw",
        "outputId": "a8ea06b5-34d5-45fd-bc4c-99a557e2bbdd"
      },
      "source": [
        "rdd_data.foreach(pr)"
      ],
      "execution_count": null,
      "outputs": [
        {
          "output_type": "stream",
          "text": [
            "None\n"
          ],
          "name": "stdout"
        }
      ]
    },
    {
      "cell_type": "code",
      "metadata": {
        "colab": {
          "base_uri": "https://localhost:8080/"
        },
        "id": "aYT_NGbagOXs",
        "outputId": "29091d22-79fb-47b1-977a-ddcc53471550"
      },
      "source": [
        ""
      ],
      "execution_count": null,
      "outputs": [
        {
          "output_type": "stream",
          "text": [
            "None\n"
          ],
          "name": "stdout"
        }
      ]
    }
  ]
}